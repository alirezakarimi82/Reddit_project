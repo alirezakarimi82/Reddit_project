{
 "cells": [
  {
   "cell_type": "code",
   "execution_count": 1,
   "metadata": {},
   "outputs": [],
   "source": [
    "import pandas as pd\n",
    "import re\n",
    "from langdetect import detect "
   ]
  },
  {
   "cell_type": "code",
   "execution_count": 2,
   "metadata": {},
   "outputs": [
    {
     "data": {
      "text/html": [
       "<div>\n",
       "<style scoped>\n",
       "    .dataframe tbody tr th:only-of-type {\n",
       "        vertical-align: middle;\n",
       "    }\n",
       "\n",
       "    .dataframe tbody tr th {\n",
       "        vertical-align: top;\n",
       "    }\n",
       "\n",
       "    .dataframe thead th {\n",
       "        text-align: right;\n",
       "    }\n",
       "</style>\n",
       "<table border=\"1\" class=\"dataframe\">\n",
       "  <thead>\n",
       "    <tr style=\"text-align: right;\">\n",
       "      <th></th>\n",
       "      <th>id</th>\n",
       "      <th>title</th>\n",
       "      <th>text</th>\n",
       "      <th>subreddit</th>\n",
       "    </tr>\n",
       "  </thead>\n",
       "  <tbody>\n",
       "    <tr>\n",
       "      <th>0</th>\n",
       "      <td>a7clej</td>\n",
       "      <td>Elon Musk Stomps About The Tesla Factory \"Rage...</td>\n",
       "      <td>NaN</td>\n",
       "      <td>sci</td>\n",
       "    </tr>\n",
       "    <tr>\n",
       "      <th>1</th>\n",
       "      <td>a7ceq2</td>\n",
       "      <td>Scientists discover the most distant solar sys...</td>\n",
       "      <td>NaN</td>\n",
       "      <td>sci</td>\n",
       "    </tr>\n",
       "    <tr>\n",
       "      <th>2</th>\n",
       "      <td>a7cdlr</td>\n",
       "      <td>Feminists Think Sexist Men Are Sexier than \"Wo...</td>\n",
       "      <td>NaN</td>\n",
       "      <td>sci</td>\n",
       "    </tr>\n",
       "    <tr>\n",
       "      <th>3</th>\n",
       "      <td>a7ccqv</td>\n",
       "      <td>The average primary care doctor needs to work ...</td>\n",
       "      <td>NaN</td>\n",
       "      <td>sci</td>\n",
       "    </tr>\n",
       "    <tr>\n",
       "      <th>4</th>\n",
       "      <td>a7ca1s</td>\n",
       "      <td>Fossil from the Big Bang Discovered with W. M....</td>\n",
       "      <td>NaN</td>\n",
       "      <td>sci</td>\n",
       "    </tr>\n",
       "  </tbody>\n",
       "</table>\n",
       "</div>"
      ],
      "text/plain": [
       "       id                                              title text subreddit\n",
       "0  a7clej  Elon Musk Stomps About The Tesla Factory \"Rage...  NaN       sci\n",
       "1  a7ceq2  Scientists discover the most distant solar sys...  NaN       sci\n",
       "2  a7cdlr  Feminists Think Sexist Men Are Sexier than \"Wo...  NaN       sci\n",
       "3  a7ccqv  The average primary care doctor needs to work ...  NaN       sci\n",
       "4  a7ca1s  Fossil from the Big Bang Discovered with W. M....  NaN       sci"
      ]
     },
     "execution_count": 2,
     "metadata": {},
     "output_type": "execute_result"
    }
   ],
   "source": [
    "df1 = pd.read_csv('./datasets/data_sci.csv')\n",
    "df1.head()"
   ]
  },
  {
   "cell_type": "code",
   "execution_count": 3,
   "metadata": {},
   "outputs": [
    {
     "data": {
      "text/plain": [
       "(10000, 4)"
      ]
     },
     "execution_count": 3,
     "metadata": {},
     "output_type": "execute_result"
    }
   ],
   "source": [
    "df1.shape"
   ]
  },
  {
   "cell_type": "code",
   "execution_count": 4,
   "metadata": {},
   "outputs": [
    {
     "data": {
      "text/plain": [
       "0"
      ]
     },
     "execution_count": 4,
     "metadata": {},
     "output_type": "execute_result"
    }
   ],
   "source": [
    "df1['id'].duplicated().sum()"
   ]
  },
  {
   "cell_type": "code",
   "execution_count": 5,
   "metadata": {},
   "outputs": [
    {
     "data": {
      "text/html": [
       "<div>\n",
       "<style scoped>\n",
       "    .dataframe tbody tr th:only-of-type {\n",
       "        vertical-align: middle;\n",
       "    }\n",
       "\n",
       "    .dataframe tbody tr th {\n",
       "        vertical-align: top;\n",
       "    }\n",
       "\n",
       "    .dataframe thead th {\n",
       "        text-align: right;\n",
       "    }\n",
       "</style>\n",
       "<table border=\"1\" class=\"dataframe\">\n",
       "  <thead>\n",
       "    <tr style=\"text-align: right;\">\n",
       "      <th></th>\n",
       "      <th>id</th>\n",
       "      <th>title</th>\n",
       "      <th>text</th>\n",
       "      <th>subreddit</th>\n",
       "    </tr>\n",
       "  </thead>\n",
       "  <tbody>\n",
       "    <tr>\n",
       "      <th>0</th>\n",
       "      <td>a7cisf</td>\n",
       "      <td>KNOW YOUR WORTH</td>\n",
       "      <td>NaN</td>\n",
       "      <td>psy</td>\n",
       "    </tr>\n",
       "    <tr>\n",
       "      <th>1</th>\n",
       "      <td>a7bzh3</td>\n",
       "      <td>The Real Roots of American Rage - The untold s...</td>\n",
       "      <td>NaN</td>\n",
       "      <td>psy</td>\n",
       "    </tr>\n",
       "    <tr>\n",
       "      <th>2</th>\n",
       "      <td>a7b4tk</td>\n",
       "      <td>Is it Social Anxiety?</td>\n",
       "      <td>NaN</td>\n",
       "      <td>psy</td>\n",
       "    </tr>\n",
       "    <tr>\n",
       "      <th>3</th>\n",
       "      <td>a7b2hc</td>\n",
       "      <td>Trying to find something good in a bad situati...</td>\n",
       "      <td>NaN</td>\n",
       "      <td>psy</td>\n",
       "    </tr>\n",
       "    <tr>\n",
       "      <th>4</th>\n",
       "      <td>a7b0c5</td>\n",
       "      <td>Children of problem drinkers are more likely t...</td>\n",
       "      <td>NaN</td>\n",
       "      <td>psy</td>\n",
       "    </tr>\n",
       "  </tbody>\n",
       "</table>\n",
       "</div>"
      ],
      "text/plain": [
       "       id                                              title text subreddit\n",
       "0  a7cisf                                    KNOW YOUR WORTH  NaN       psy\n",
       "1  a7bzh3  The Real Roots of American Rage - The untold s...  NaN       psy\n",
       "2  a7b4tk                              Is it Social Anxiety?  NaN       psy\n",
       "3  a7b2hc  Trying to find something good in a bad situati...  NaN       psy\n",
       "4  a7b0c5  Children of problem drinkers are more likely t...  NaN       psy"
      ]
     },
     "execution_count": 5,
     "metadata": {},
     "output_type": "execute_result"
    }
   ],
   "source": [
    "df2 = pd.read_csv('./datasets/data_psy.csv')\n",
    "df2.head()"
   ]
  },
  {
   "cell_type": "code",
   "execution_count": 6,
   "metadata": {},
   "outputs": [
    {
     "data": {
      "text/plain": [
       "(9991, 4)"
      ]
     },
     "execution_count": 6,
     "metadata": {},
     "output_type": "execute_result"
    }
   ],
   "source": [
    "df2.shape"
   ]
  },
  {
   "cell_type": "code",
   "execution_count": 7,
   "metadata": {},
   "outputs": [
    {
     "data": {
      "text/plain": [
       "0"
      ]
     },
     "execution_count": 7,
     "metadata": {},
     "output_type": "execute_result"
    }
   ],
   "source": [
    "df2['id'].duplicated().sum()"
   ]
  },
  {
   "cell_type": "code",
   "execution_count": 8,
   "metadata": {},
   "outputs": [
    {
     "data": {
      "text/html": [
       "<div>\n",
       "<style scoped>\n",
       "    .dataframe tbody tr th:only-of-type {\n",
       "        vertical-align: middle;\n",
       "    }\n",
       "\n",
       "    .dataframe tbody tr th {\n",
       "        vertical-align: top;\n",
       "    }\n",
       "\n",
       "    .dataframe thead th {\n",
       "        text-align: right;\n",
       "    }\n",
       "</style>\n",
       "<table border=\"1\" class=\"dataframe\">\n",
       "  <thead>\n",
       "    <tr style=\"text-align: right;\">\n",
       "      <th></th>\n",
       "      <th>id</th>\n",
       "      <th>title</th>\n",
       "      <th>text</th>\n",
       "      <th>subreddit</th>\n",
       "    </tr>\n",
       "  </thead>\n",
       "  <tbody>\n",
       "    <tr>\n",
       "      <th>0</th>\n",
       "      <td>a7clej</td>\n",
       "      <td>Elon Musk Stomps About The Tesla Factory \"Rage...</td>\n",
       "      <td>NaN</td>\n",
       "      <td>sci</td>\n",
       "    </tr>\n",
       "    <tr>\n",
       "      <th>1</th>\n",
       "      <td>a7ceq2</td>\n",
       "      <td>Scientists discover the most distant solar sys...</td>\n",
       "      <td>NaN</td>\n",
       "      <td>sci</td>\n",
       "    </tr>\n",
       "    <tr>\n",
       "      <th>2</th>\n",
       "      <td>a7cdlr</td>\n",
       "      <td>Feminists Think Sexist Men Are Sexier than \"Wo...</td>\n",
       "      <td>NaN</td>\n",
       "      <td>sci</td>\n",
       "    </tr>\n",
       "    <tr>\n",
       "      <th>3</th>\n",
       "      <td>a7ccqv</td>\n",
       "      <td>The average primary care doctor needs to work ...</td>\n",
       "      <td>NaN</td>\n",
       "      <td>sci</td>\n",
       "    </tr>\n",
       "    <tr>\n",
       "      <th>4</th>\n",
       "      <td>a7ca1s</td>\n",
       "      <td>Fossil from the Big Bang Discovered with W. M....</td>\n",
       "      <td>NaN</td>\n",
       "      <td>sci</td>\n",
       "    </tr>\n",
       "  </tbody>\n",
       "</table>\n",
       "</div>"
      ],
      "text/plain": [
       "       id                                              title text subreddit\n",
       "0  a7clej  Elon Musk Stomps About The Tesla Factory \"Rage...  NaN       sci\n",
       "1  a7ceq2  Scientists discover the most distant solar sys...  NaN       sci\n",
       "2  a7cdlr  Feminists Think Sexist Men Are Sexier than \"Wo...  NaN       sci\n",
       "3  a7ccqv  The average primary care doctor needs to work ...  NaN       sci\n",
       "4  a7ca1s  Fossil from the Big Bang Discovered with W. M....  NaN       sci"
      ]
     },
     "execution_count": 8,
     "metadata": {},
     "output_type": "execute_result"
    }
   ],
   "source": [
    "df = pd.concat([df1, df2])\n",
    "df.reset_index(drop=True, inplace=True)\n",
    "df.head()"
   ]
  },
  {
   "cell_type": "code",
   "execution_count": 9,
   "metadata": {},
   "outputs": [
    {
     "data": {
      "text/html": [
       "<div>\n",
       "<style scoped>\n",
       "    .dataframe tbody tr th:only-of-type {\n",
       "        vertical-align: middle;\n",
       "    }\n",
       "\n",
       "    .dataframe tbody tr th {\n",
       "        vertical-align: top;\n",
       "    }\n",
       "\n",
       "    .dataframe thead th {\n",
       "        text-align: right;\n",
       "    }\n",
       "</style>\n",
       "<table border=\"1\" class=\"dataframe\">\n",
       "  <thead>\n",
       "    <tr style=\"text-align: right;\">\n",
       "      <th></th>\n",
       "      <th>id</th>\n",
       "      <th>title</th>\n",
       "      <th>text</th>\n",
       "      <th>subreddit</th>\n",
       "    </tr>\n",
       "  </thead>\n",
       "  <tbody>\n",
       "    <tr>\n",
       "      <th>19986</th>\n",
       "      <td>720vgx</td>\n",
       "      <td>Our Ability to Recognize Letters Could Be Hard...</td>\n",
       "      <td>NaN</td>\n",
       "      <td>psy</td>\n",
       "    </tr>\n",
       "    <tr>\n",
       "      <th>19987</th>\n",
       "      <td>720o8i</td>\n",
       "      <td>Building a World Without Alzheimer's</td>\n",
       "      <td>[deleted]</td>\n",
       "      <td>psy</td>\n",
       "    </tr>\n",
       "    <tr>\n",
       "      <th>19988</th>\n",
       "      <td>720o5a</td>\n",
       "      <td>i hear voices in my head (schizophrenia)|| La ...</td>\n",
       "      <td>NaN</td>\n",
       "      <td>psy</td>\n",
       "    </tr>\n",
       "    <tr>\n",
       "      <th>19989</th>\n",
       "      <td>720fvv</td>\n",
       "      <td>The Fallout of Not Facing the Toxic Behaviors ...</td>\n",
       "      <td>NaN</td>\n",
       "      <td>psy</td>\n",
       "    </tr>\n",
       "    <tr>\n",
       "      <th>19990</th>\n",
       "      <td>72071z</td>\n",
       "      <td>What's that woman thinking?</td>\n",
       "      <td>NaN</td>\n",
       "      <td>psy</td>\n",
       "    </tr>\n",
       "  </tbody>\n",
       "</table>\n",
       "</div>"
      ],
      "text/plain": [
       "           id                                              title       text  \\\n",
       "19986  720vgx  Our Ability to Recognize Letters Could Be Hard...        NaN   \n",
       "19987  720o8i               Building a World Without Alzheimer's  [deleted]   \n",
       "19988  720o5a  i hear voices in my head (schizophrenia)|| La ...        NaN   \n",
       "19989  720fvv  The Fallout of Not Facing the Toxic Behaviors ...        NaN   \n",
       "19990  72071z                        What's that woman thinking?        NaN   \n",
       "\n",
       "      subreddit  \n",
       "19986       psy  \n",
       "19987       psy  \n",
       "19988       psy  \n",
       "19989       psy  \n",
       "19990       psy  "
      ]
     },
     "execution_count": 9,
     "metadata": {},
     "output_type": "execute_result"
    }
   ],
   "source": [
    "df.tail()"
   ]
  },
  {
   "cell_type": "code",
   "execution_count": 10,
   "metadata": {},
   "outputs": [
    {
     "data": {
      "text/plain": [
       "(19991, 4)"
      ]
     },
     "execution_count": 10,
     "metadata": {},
     "output_type": "execute_result"
    }
   ],
   "source": [
    "df.shape"
   ]
  },
  {
   "cell_type": "code",
   "execution_count": 11,
   "metadata": {},
   "outputs": [
    {
     "data": {
      "text/plain": [
       "sci    10000\n",
       "psy     9991\n",
       "Name: subreddit, dtype: int64"
      ]
     },
     "execution_count": 11,
     "metadata": {},
     "output_type": "execute_result"
    }
   ],
   "source": [
    "df['subreddit'].value_counts()"
   ]
  },
  {
   "cell_type": "code",
   "execution_count": 12,
   "metadata": {},
   "outputs": [
    {
     "data": {
      "text/html": [
       "<div>\n",
       "<style scoped>\n",
       "    .dataframe tbody tr th:only-of-type {\n",
       "        vertical-align: middle;\n",
       "    }\n",
       "\n",
       "    .dataframe tbody tr th {\n",
       "        vertical-align: top;\n",
       "    }\n",
       "\n",
       "    .dataframe thead th {\n",
       "        text-align: right;\n",
       "    }\n",
       "</style>\n",
       "<table border=\"1\" class=\"dataframe\">\n",
       "  <thead>\n",
       "    <tr style=\"text-align: right;\">\n",
       "      <th></th>\n",
       "      <th>id</th>\n",
       "      <th>title</th>\n",
       "      <th>text</th>\n",
       "      <th>subreddit</th>\n",
       "    </tr>\n",
       "  </thead>\n",
       "  <tbody>\n",
       "    <tr>\n",
       "      <th>0</th>\n",
       "      <td>a7clej</td>\n",
       "      <td>Elon Musk Stomps About The Tesla Factory \"Rage...</td>\n",
       "      <td></td>\n",
       "      <td>sci</td>\n",
       "    </tr>\n",
       "    <tr>\n",
       "      <th>1</th>\n",
       "      <td>a7ceq2</td>\n",
       "      <td>Scientists discover the most distant solar sys...</td>\n",
       "      <td></td>\n",
       "      <td>sci</td>\n",
       "    </tr>\n",
       "    <tr>\n",
       "      <th>2</th>\n",
       "      <td>a7cdlr</td>\n",
       "      <td>Feminists Think Sexist Men Are Sexier than \"Wo...</td>\n",
       "      <td></td>\n",
       "      <td>sci</td>\n",
       "    </tr>\n",
       "    <tr>\n",
       "      <th>3</th>\n",
       "      <td>a7ccqv</td>\n",
       "      <td>The average primary care doctor needs to work ...</td>\n",
       "      <td></td>\n",
       "      <td>sci</td>\n",
       "    </tr>\n",
       "    <tr>\n",
       "      <th>4</th>\n",
       "      <td>a7ca1s</td>\n",
       "      <td>Fossil from the Big Bang Discovered with W. M....</td>\n",
       "      <td></td>\n",
       "      <td>sci</td>\n",
       "    </tr>\n",
       "  </tbody>\n",
       "</table>\n",
       "</div>"
      ],
      "text/plain": [
       "       id                                              title text subreddit\n",
       "0  a7clej  Elon Musk Stomps About The Tesla Factory \"Rage...            sci\n",
       "1  a7ceq2  Scientists discover the most distant solar sys...            sci\n",
       "2  a7cdlr  Feminists Think Sexist Men Are Sexier than \"Wo...            sci\n",
       "3  a7ccqv  The average primary care doctor needs to work ...            sci\n",
       "4  a7ca1s  Fossil from the Big Bang Discovered with W. M....            sci"
      ]
     },
     "execution_count": 12,
     "metadata": {},
     "output_type": "execute_result"
    }
   ],
   "source": [
    "df['text'].fillna('', inplace=True)\n",
    "df.head()"
   ]
  },
  {
   "cell_type": "code",
   "execution_count": 13,
   "metadata": {},
   "outputs": [],
   "source": [
    "mask = df['text'].str.contains('\\[deleted')\n",
    "df.loc[mask, 'text'] = ''\n",
    "    \n",
    "mask = df['title'].str.contains('\\[deleted')\n",
    "df.drop(df.loc[mask].index, inplace=True)\n",
    "df.reset_index(drop=True, inplace=True)"
   ]
  },
  {
   "cell_type": "code",
   "execution_count": 14,
   "metadata": {},
   "outputs": [
    {
     "data": {
      "text/plain": [
       "(19986, 4)"
      ]
     },
     "execution_count": 14,
     "metadata": {},
     "output_type": "execute_result"
    }
   ],
   "source": [
    "df.shape"
   ]
  },
  {
   "cell_type": "code",
   "execution_count": 15,
   "metadata": {},
   "outputs": [
    {
     "data": {
      "text/html": [
       "<div>\n",
       "<style scoped>\n",
       "    .dataframe tbody tr th:only-of-type {\n",
       "        vertical-align: middle;\n",
       "    }\n",
       "\n",
       "    .dataframe tbody tr th {\n",
       "        vertical-align: top;\n",
       "    }\n",
       "\n",
       "    .dataframe thead th {\n",
       "        text-align: right;\n",
       "    }\n",
       "</style>\n",
       "<table border=\"1\" class=\"dataframe\">\n",
       "  <thead>\n",
       "    <tr style=\"text-align: right;\">\n",
       "      <th></th>\n",
       "      <th>id</th>\n",
       "      <th>subreddit</th>\n",
       "      <th>content</th>\n",
       "    </tr>\n",
       "  </thead>\n",
       "  <tbody>\n",
       "    <tr>\n",
       "      <th>0</th>\n",
       "      <td>a7clej</td>\n",
       "      <td>sci</td>\n",
       "      <td>Elon Musk Stomps About The Tesla Factory \"Rage...</td>\n",
       "    </tr>\n",
       "    <tr>\n",
       "      <th>1</th>\n",
       "      <td>a7ceq2</td>\n",
       "      <td>sci</td>\n",
       "      <td>Scientists discover the most distant solar sys...</td>\n",
       "    </tr>\n",
       "    <tr>\n",
       "      <th>2</th>\n",
       "      <td>a7cdlr</td>\n",
       "      <td>sci</td>\n",
       "      <td>Feminists Think Sexist Men Are Sexier than \"Wo...</td>\n",
       "    </tr>\n",
       "    <tr>\n",
       "      <th>3</th>\n",
       "      <td>a7ccqv</td>\n",
       "      <td>sci</td>\n",
       "      <td>The average primary care doctor needs to work ...</td>\n",
       "    </tr>\n",
       "    <tr>\n",
       "      <th>4</th>\n",
       "      <td>a7ca1s</td>\n",
       "      <td>sci</td>\n",
       "      <td>Fossil from the Big Bang Discovered with W. M....</td>\n",
       "    </tr>\n",
       "  </tbody>\n",
       "</table>\n",
       "</div>"
      ],
      "text/plain": [
       "       id subreddit                                            content\n",
       "0  a7clej       sci  Elon Musk Stomps About The Tesla Factory \"Rage...\n",
       "1  a7ceq2       sci  Scientists discover the most distant solar sys...\n",
       "2  a7cdlr       sci  Feminists Think Sexist Men Are Sexier than \"Wo...\n",
       "3  a7ccqv       sci  The average primary care doctor needs to work ...\n",
       "4  a7ca1s       sci  Fossil from the Big Bang Discovered with W. M...."
      ]
     },
     "execution_count": 15,
     "metadata": {},
     "output_type": "execute_result"
    }
   ],
   "source": [
    "df['content'] = df['title'] + df['text']\n",
    "df.drop(['title', 'text'], axis=1, inplace=True)\n",
    "df.head()"
   ]
  },
  {
   "cell_type": "code",
   "execution_count": 16,
   "metadata": {},
   "outputs": [],
   "source": [
    "def preprocess_text(text):\n",
    "         \n",
    "    urls_removed = re.sub('http\\S+', ' ', text)\n",
    "                          \n",
    "    letters_only = re.sub('[^a-zA-Z]', ' ', urls_removed)\n",
    "    \n",
    "    words = letters_only.lower().split()\n",
    "    \n",
    "    return(' '.join(words))"
   ]
  },
  {
   "cell_type": "code",
   "execution_count": 17,
   "metadata": {},
   "outputs": [],
   "source": [
    "df['content'] = df['content'].map(lambda x: preprocess_text(x))"
   ]
  },
  {
   "cell_type": "code",
   "execution_count": 18,
   "metadata": {},
   "outputs": [],
   "source": [
    "mask = df['content'] == ''\n",
    "df.drop(df.loc[mask].index, inplace=True)"
   ]
  },
  {
   "cell_type": "code",
   "execution_count": 19,
   "metadata": {},
   "outputs": [],
   "source": [
    "mask = df['content'].map(lambda x: True if detect(x) != 'en' else False)\n",
    "df.drop(df.loc[mask].index, inplace=True)"
   ]
  },
  {
   "cell_type": "code",
   "execution_count": 20,
   "metadata": {},
   "outputs": [],
   "source": [
    "df['subreddit'] = df['subreddit'].map(lambda x: 1 if x == 'sci' else 0)"
   ]
  },
  {
   "cell_type": "code",
   "execution_count": 21,
   "metadata": {},
   "outputs": [
    {
     "data": {
      "text/html": [
       "<div>\n",
       "<style scoped>\n",
       "    .dataframe tbody tr th:only-of-type {\n",
       "        vertical-align: middle;\n",
       "    }\n",
       "\n",
       "    .dataframe tbody tr th {\n",
       "        vertical-align: top;\n",
       "    }\n",
       "\n",
       "    .dataframe thead th {\n",
       "        text-align: right;\n",
       "    }\n",
       "</style>\n",
       "<table border=\"1\" class=\"dataframe\">\n",
       "  <thead>\n",
       "    <tr style=\"text-align: right;\">\n",
       "      <th></th>\n",
       "      <th>id</th>\n",
       "      <th>subreddit</th>\n",
       "      <th>content</th>\n",
       "    </tr>\n",
       "  </thead>\n",
       "  <tbody>\n",
       "    <tr>\n",
       "      <th>0</th>\n",
       "      <td>9uqrxt</td>\n",
       "      <td>1</td>\n",
       "      <td>cigar shaped interstellar object may have been...</td>\n",
       "    </tr>\n",
       "    <tr>\n",
       "      <th>1</th>\n",
       "      <td>a3bo24</td>\n",
       "      <td>0</td>\n",
       "      <td>research based framework for the popular advic...</td>\n",
       "    </tr>\n",
       "    <tr>\n",
       "      <th>2</th>\n",
       "      <td>a30vp0</td>\n",
       "      <td>1</td>\n",
       "      <td>your fat and gut hormone interact to tell your...</td>\n",
       "    </tr>\n",
       "    <tr>\n",
       "      <th>3</th>\n",
       "      <td>76xc3u</td>\n",
       "      <td>0</td>\n",
       "      <td>opposition to same sex marriage is often drive...</td>\n",
       "    </tr>\n",
       "    <tr>\n",
       "      <th>4</th>\n",
       "      <td>9mnhla</td>\n",
       "      <td>1</td>\n",
       "      <td>in a huge world first study australian scienti...</td>\n",
       "    </tr>\n",
       "  </tbody>\n",
       "</table>\n",
       "</div>"
      ],
      "text/plain": [
       "       id  subreddit                                            content\n",
       "0  9uqrxt          1  cigar shaped interstellar object may have been...\n",
       "1  a3bo24          0  research based framework for the popular advic...\n",
       "2  a30vp0          1  your fat and gut hormone interact to tell your...\n",
       "3  76xc3u          0  opposition to same sex marriage is often drive...\n",
       "4  9mnhla          1  in a huge world first study australian scienti..."
      ]
     },
     "execution_count": 21,
     "metadata": {},
     "output_type": "execute_result"
    }
   ],
   "source": [
    "df = df.sample(frac=1, random_state=42).reset_index(drop=True)\n",
    "df.head()"
   ]
  },
  {
   "cell_type": "code",
   "execution_count": 22,
   "metadata": {},
   "outputs": [
    {
     "data": {
      "text/plain": [
       "(18481, 3)"
      ]
     },
     "execution_count": 22,
     "metadata": {},
     "output_type": "execute_result"
    }
   ],
   "source": [
    "df.shape"
   ]
  },
  {
   "cell_type": "code",
   "execution_count": 23,
   "metadata": {},
   "outputs": [],
   "source": [
    "df.to_csv('./datasets/data_all.csv', index=False)"
   ]
  },
  {
   "cell_type": "code",
   "execution_count": null,
   "metadata": {},
   "outputs": [],
   "source": []
  }
 ],
 "metadata": {
  "kernelspec": {
   "display_name": "Python 3",
   "language": "python",
   "name": "python3"
  },
  "language_info": {
   "codemirror_mode": {
    "name": "ipython",
    "version": 3
   },
   "file_extension": ".py",
   "mimetype": "text/x-python",
   "name": "python",
   "nbconvert_exporter": "python",
   "pygments_lexer": "ipython3",
   "version": "3.6.6"
  }
 },
 "nbformat": 4,
 "nbformat_minor": 2
}
