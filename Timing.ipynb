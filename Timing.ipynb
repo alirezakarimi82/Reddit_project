{
 "cells": [
  {
   "cell_type": "code",
   "execution_count": 1,
   "metadata": {},
   "outputs": [],
   "source": [
    "import re\n",
    "import pandas as pd\n",
    "import matplotlib.pyplot as plt\n",
    "\n",
    "%matplotlib inline"
   ]
  },
  {
   "cell_type": "code",
   "execution_count": 2,
   "metadata": {},
   "outputs": [],
   "source": [
    "file = open('./Modeling.log', 'r')\n",
    "raw_data = file.read()"
   ]
  },
  {
   "cell_type": "code",
   "execution_count": 3,
   "metadata": {},
   "outputs": [],
   "source": [
    "vect = []\n",
    "model = []\n",
    "\n",
    "methods = re.findall(r'using (.+) and (.+)\\s.+', raw_data)\n",
    "for method in methods:\n",
    "    vect.append(method[0])\n",
    "    model.append(method[1])"
   ]
  },
  {
   "cell_type": "code",
   "execution_count": 4,
   "metadata": {},
   "outputs": [],
   "source": [
    "fit_num = []\n",
    "time  = []\n",
    "unit = []\n",
    "\n",
    "time_data = re.findall(r'of\\s+(\\d+).+\\s+(\\d+\\.?\\d+)(\\w+) finished', raw_data)\n",
    "for data in time_data:\n",
    "    fit_num.append(int(data[0]))\n",
    "    time.append(float(data[1]))\n",
    "    unit.append(data[2])"
   ]
  },
  {
   "cell_type": "code",
   "execution_count": 5,
   "metadata": {},
   "outputs": [
    {
     "data": {
      "text/html": [
       "<div>\n",
       "<style scoped>\n",
       "    .dataframe tbody tr th:only-of-type {\n",
       "        vertical-align: middle;\n",
       "    }\n",
       "\n",
       "    .dataframe tbody tr th {\n",
       "        vertical-align: top;\n",
       "    }\n",
       "\n",
       "    .dataframe thead th {\n",
       "        text-align: right;\n",
       "    }\n",
       "</style>\n",
       "<table border=\"1\" class=\"dataframe\">\n",
       "  <thead>\n",
       "    <tr style=\"text-align: right;\">\n",
       "      <th></th>\n",
       "      <th>Vectorizer</th>\n",
       "      <th>Classifier</th>\n",
       "      <th>fit_num</th>\n",
       "      <th>duration</th>\n",
       "      <th>unit</th>\n",
       "    </tr>\n",
       "  </thead>\n",
       "  <tbody>\n",
       "    <tr>\n",
       "      <th>0</th>\n",
       "      <td>CountVectorizer</td>\n",
       "      <td>LogisticRegression</td>\n",
       "      <td>400</td>\n",
       "      <td>6.8</td>\n",
       "      <td>min</td>\n",
       "    </tr>\n",
       "    <tr>\n",
       "      <th>1</th>\n",
       "      <td>CountVectorizer</td>\n",
       "      <td>KNeighborsClassifier</td>\n",
       "      <td>120</td>\n",
       "      <td>6.2</td>\n",
       "      <td>min</td>\n",
       "    </tr>\n",
       "    <tr>\n",
       "      <th>2</th>\n",
       "      <td>CountVectorizer</td>\n",
       "      <td>MultinomialNB</td>\n",
       "      <td>20</td>\n",
       "      <td>11.9</td>\n",
       "      <td>s</td>\n",
       "    </tr>\n",
       "    <tr>\n",
       "      <th>3</th>\n",
       "      <td>CountVectorizer</td>\n",
       "      <td>RandomForestClassifier</td>\n",
       "      <td>180</td>\n",
       "      <td>83.3</td>\n",
       "      <td>min</td>\n",
       "    </tr>\n",
       "    <tr>\n",
       "      <th>4</th>\n",
       "      <td>CountVectorizer</td>\n",
       "      <td>AdaBoostClassifier</td>\n",
       "      <td>60</td>\n",
       "      <td>3.3</td>\n",
       "      <td>min</td>\n",
       "    </tr>\n",
       "  </tbody>\n",
       "</table>\n",
       "</div>"
      ],
      "text/plain": [
       "        Vectorizer              Classifier  fit_num  duration unit\n",
       "0  CountVectorizer      LogisticRegression      400       6.8  min\n",
       "1  CountVectorizer    KNeighborsClassifier      120       6.2  min\n",
       "2  CountVectorizer           MultinomialNB       20      11.9    s\n",
       "3  CountVectorizer  RandomForestClassifier      180      83.3  min\n",
       "4  CountVectorizer      AdaBoostClassifier       60       3.3  min"
      ]
     },
     "execution_count": 5,
     "metadata": {},
     "output_type": "execute_result"
    }
   ],
   "source": [
    "df = pd.DataFrame({'Vectorizer': vect, 'Classifier': model, 'fit_num': fit_num, 'duration': time, 'unit': unit})\n",
    "df.head()"
   ]
  },
  {
   "cell_type": "code",
   "execution_count": 6,
   "metadata": {},
   "outputs": [
    {
     "data": {
      "text/html": [
       "<div>\n",
       "<style scoped>\n",
       "    .dataframe tbody tr th:only-of-type {\n",
       "        vertical-align: middle;\n",
       "    }\n",
       "\n",
       "    .dataframe tbody tr th {\n",
       "        vertical-align: top;\n",
       "    }\n",
       "\n",
       "    .dataframe thead th {\n",
       "        text-align: right;\n",
       "    }\n",
       "</style>\n",
       "<table border=\"1\" class=\"dataframe\">\n",
       "  <thead>\n",
       "    <tr style=\"text-align: right;\">\n",
       "      <th></th>\n",
       "      <th>Vectorizer</th>\n",
       "      <th>Classifier</th>\n",
       "      <th>fit_num</th>\n",
       "      <th>duration</th>\n",
       "      <th>unit</th>\n",
       "      <th>duration_per_fit</th>\n",
       "    </tr>\n",
       "  </thead>\n",
       "  <tbody>\n",
       "    <tr>\n",
       "      <th>0</th>\n",
       "      <td>CountVectorizer</td>\n",
       "      <td>LogisticRegression</td>\n",
       "      <td>400</td>\n",
       "      <td>6.8</td>\n",
       "      <td>min</td>\n",
       "      <td>1.020000</td>\n",
       "    </tr>\n",
       "    <tr>\n",
       "      <th>1</th>\n",
       "      <td>CountVectorizer</td>\n",
       "      <td>KNeighborsClassifier</td>\n",
       "      <td>120</td>\n",
       "      <td>6.2</td>\n",
       "      <td>min</td>\n",
       "      <td>3.100000</td>\n",
       "    </tr>\n",
       "    <tr>\n",
       "      <th>2</th>\n",
       "      <td>CountVectorizer</td>\n",
       "      <td>MultinomialNB</td>\n",
       "      <td>20</td>\n",
       "      <td>11.9</td>\n",
       "      <td>s</td>\n",
       "      <td>0.595000</td>\n",
       "    </tr>\n",
       "    <tr>\n",
       "      <th>3</th>\n",
       "      <td>CountVectorizer</td>\n",
       "      <td>RandomForestClassifier</td>\n",
       "      <td>180</td>\n",
       "      <td>83.3</td>\n",
       "      <td>min</td>\n",
       "      <td>27.766667</td>\n",
       "    </tr>\n",
       "    <tr>\n",
       "      <th>4</th>\n",
       "      <td>CountVectorizer</td>\n",
       "      <td>AdaBoostClassifier</td>\n",
       "      <td>60</td>\n",
       "      <td>3.3</td>\n",
       "      <td>min</td>\n",
       "      <td>3.300000</td>\n",
       "    </tr>\n",
       "  </tbody>\n",
       "</table>\n",
       "</div>"
      ],
      "text/plain": [
       "        Vectorizer              Classifier  fit_num  duration unit  \\\n",
       "0  CountVectorizer      LogisticRegression      400       6.8  min   \n",
       "1  CountVectorizer    KNeighborsClassifier      120       6.2  min   \n",
       "2  CountVectorizer           MultinomialNB       20      11.9    s   \n",
       "3  CountVectorizer  RandomForestClassifier      180      83.3  min   \n",
       "4  CountVectorizer      AdaBoostClassifier       60       3.3  min   \n",
       "\n",
       "   duration_per_fit  \n",
       "0          1.020000  \n",
       "1          3.100000  \n",
       "2          0.595000  \n",
       "3         27.766667  \n",
       "4          3.300000  "
      ]
     },
     "execution_count": 6,
     "metadata": {},
     "output_type": "execute_result"
    }
   ],
   "source": [
    "mask = df['unit'] == 'min'\n",
    "df.loc[mask, 'duration_per_fit'] = df.loc[mask, 'duration'] * 60\n",
    "df.loc[~mask, 'duration_per_fit'] = df.loc[~mask, 'duration']\n",
    "df['duration_per_fit'] = df['duration_per_fit'] / df['fit_num']\n",
    "df.head()"
   ]
  },
  {
   "cell_type": "code",
   "execution_count": 7,
   "metadata": {},
   "outputs": [
    {
     "data": {
      "image/png": "[encoded data removed]",
      "text/plain": [
       "<Figure size 576x504 with 1 Axes>"
      ]
     },
     "metadata": {
      "needs_background": "light"
     },
     "output_type": "display_data"
    }
   ],
   "source": [
    "fig, ax = plt.subplots(figsize=(8, 7))\n",
    "df.pivot_table(index=['Classifier', 'Vectorizer'])['duration_per_fit'].unstack().plot(kind='barh', ax=ax)\n",
    "labels = ['Ada Boost', 'Gradient Boost', 'kNN', 'Logisitc Regression', 'Naive Bayes', 'Random Forest', 'SVM']\n",
    "ax.set_yticklabels(labels)\n",
    "ax.yaxis.set_tick_params(labelsize=14)\n",
    "ax.xaxis.set_tick_params(labelsize=14)\n",
    "ax.set_ylabel(None)\n",
    "ax.legend(fontsize=14, loc='upper right', bbox_to_anchor=(1.4, 1))\n",
    "ax.set_title('Run Time per Fit (s)\\n', fontsize=18);"
   ]
  },
  {
   "cell_type": "code",
   "execution_count": null,
   "metadata": {},
   "outputs": [],
   "source": []
  }
 ],
 "metadata": {
  "kernelspec": {
   "display_name": "Python 3",
   "language": "python",
   "name": "python3"
  },
  "language_info": {
   "codemirror_mode": {
    "name": "ipython",
    "version": 3
   },
   "file_extension": ".py",
   "mimetype": "text/x-python",
   "name": "python",
   "nbconvert_exporter": "python",
   "pygments_lexer": "ipython3",
   "version": "3.6.6"
  }
 },
 "nbformat": 4,
 "nbformat_minor": 2
}
